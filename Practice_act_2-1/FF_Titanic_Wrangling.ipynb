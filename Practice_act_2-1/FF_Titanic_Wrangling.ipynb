{
 "cells": [
  {
   "cell_type": "raw",
   "metadata": {},
   "source": [
    "---\n",
    "self-contained: true\n",
    "title: \"FF_Lab_1\"\n",
    "format:\n",
    "  html:\n",
    "    theme: solar\n",
    "---"
   ]
  },
  {
   "cell_type": "markdown",
   "metadata": {
    "id": "QWpPySbzYEIV"
   },
   "source": [
    "# Titanic Wrangling\n",
    "\n",
    "In this practice activity you'll continue to work with the titanic dataset in ways that flex what you've learned about both data wrangling and data visualization."
   ]
  },
  {
   "cell_type": "code",
   "execution_count": 1,
   "metadata": {
    "id": "kvDxCb8cg-GN",
    "tags": []
   },
   "outputs": [],
   "source": [
    "import numpy as np\n",
    "import pandas as pd"
   ]
  },
  {
   "cell_type": "code",
   "execution_count": 2,
   "metadata": {
    "colab": {
     "base_uri": "https://localhost:8080/",
     "height": 206
    },
    "id": "Nr6w8bVCf_NM",
    "outputId": "d39a8895-ab2b-4bae-c569-caf704015c82",
    "tags": []
   },
   "outputs": [
    {
     "data": {
      "text/html": [
       "<div>\n",
       "<style scoped>\n",
       "    .dataframe tbody tr th:only-of-type {\n",
       "        vertical-align: middle;\n",
       "    }\n",
       "\n",
       "    .dataframe tbody tr th {\n",
       "        vertical-align: top;\n",
       "    }\n",
       "\n",
       "    .dataframe thead th {\n",
       "        text-align: right;\n",
       "    }\n",
       "</style>\n",
       "<table border=\"1\" class=\"dataframe\">\n",
       "  <thead>\n",
       "    <tr style=\"text-align: right;\">\n",
       "      <th></th>\n",
       "      <th>name</th>\n",
       "      <th>gender</th>\n",
       "      <th>age</th>\n",
       "      <th>class</th>\n",
       "      <th>embarked</th>\n",
       "      <th>country</th>\n",
       "      <th>ticketno</th>\n",
       "      <th>fare</th>\n",
       "      <th>survived</th>\n",
       "    </tr>\n",
       "  </thead>\n",
       "  <tbody>\n",
       "    <tr>\n",
       "      <th>0</th>\n",
       "      <td>Abbing, Mr. Anthony</td>\n",
       "      <td>male</td>\n",
       "      <td>42.0</td>\n",
       "      <td>3rd</td>\n",
       "      <td>S</td>\n",
       "      <td>United States</td>\n",
       "      <td>5547.0</td>\n",
       "      <td>7.11</td>\n",
       "      <td>0</td>\n",
       "    </tr>\n",
       "    <tr>\n",
       "      <th>1</th>\n",
       "      <td>Abbott, Mr. Eugene Joseph</td>\n",
       "      <td>male</td>\n",
       "      <td>13.0</td>\n",
       "      <td>3rd</td>\n",
       "      <td>S</td>\n",
       "      <td>United States</td>\n",
       "      <td>2673.0</td>\n",
       "      <td>20.05</td>\n",
       "      <td>0</td>\n",
       "    </tr>\n",
       "    <tr>\n",
       "      <th>2</th>\n",
       "      <td>Abbott, Mr. Rossmore Edward</td>\n",
       "      <td>male</td>\n",
       "      <td>16.0</td>\n",
       "      <td>3rd</td>\n",
       "      <td>S</td>\n",
       "      <td>United States</td>\n",
       "      <td>2673.0</td>\n",
       "      <td>20.05</td>\n",
       "      <td>0</td>\n",
       "    </tr>\n",
       "    <tr>\n",
       "      <th>3</th>\n",
       "      <td>Abbott, Mrs. Rhoda Mary 'Rosa'</td>\n",
       "      <td>female</td>\n",
       "      <td>39.0</td>\n",
       "      <td>3rd</td>\n",
       "      <td>S</td>\n",
       "      <td>England</td>\n",
       "      <td>2673.0</td>\n",
       "      <td>20.05</td>\n",
       "      <td>1</td>\n",
       "    </tr>\n",
       "    <tr>\n",
       "      <th>4</th>\n",
       "      <td>Abelseth, Miss. Karen Marie</td>\n",
       "      <td>female</td>\n",
       "      <td>16.0</td>\n",
       "      <td>3rd</td>\n",
       "      <td>S</td>\n",
       "      <td>Norway</td>\n",
       "      <td>348125.0</td>\n",
       "      <td>7.13</td>\n",
       "      <td>1</td>\n",
       "    </tr>\n",
       "  </tbody>\n",
       "</table>\n",
       "</div>"
      ],
      "text/plain": [
       "                             name  gender   age class embarked        country  \\\n",
       "0             Abbing, Mr. Anthony    male  42.0   3rd        S  United States   \n",
       "1       Abbott, Mr. Eugene Joseph    male  13.0   3rd        S  United States   \n",
       "2     Abbott, Mr. Rossmore Edward    male  16.0   3rd        S  United States   \n",
       "3  Abbott, Mrs. Rhoda Mary 'Rosa'  female  39.0   3rd        S        England   \n",
       "4     Abelseth, Miss. Karen Marie  female  16.0   3rd        S         Norway   \n",
       "\n",
       "   ticketno   fare  survived  \n",
       "0    5547.0   7.11         0  \n",
       "1    2673.0  20.05         0  \n",
       "2    2673.0  20.05         0  \n",
       "3    2673.0  20.05         1  \n",
       "4  348125.0   7.13         1  "
      ]
     },
     "execution_count": 2,
     "metadata": {},
     "output_type": "execute_result"
    }
   ],
   "source": [
    "# Import the titanic dataset here\n",
    "data_dir = \"https://dlsun.github.io/pods/data/\"\n",
    "df_titanic = pd.read_csv(data_dir + \"titanic.csv\")\n",
    "df_titanic.head()"
   ]
  },
  {
   "cell_type": "markdown",
   "metadata": {
    "id": "9UgZD6VFYa96"
   },
   "source": [
    "## 1. Filter the data to include passengers only. Calculate the joint distribution (cross-tab) between a passenger's class and where they embarked."
   ]
  },
  {
   "cell_type": "code",
   "execution_count": 3,
   "metadata": {
    "colab": {
     "base_uri": "https://localhost:8080/",
     "height": 227
    },
    "id": "TBthOzDLgBif",
    "outputId": "cce99268-dd8f-41a0-c185-5f961c60356d",
    "tags": []
   },
   "outputs": [
    {
     "name": "stdout",
     "output_type": "stream",
     "text": [
      "['3rd' '2nd' '1st' 'engineering crew' 'victualling crew'\n",
      " 'restaurant staff' 'deck crew']\n",
      "['3rd' '2nd' '1st']\n"
     ]
    },
    {
     "data": {
      "text/html": [
       "<div>\n",
       "<style scoped>\n",
       "    .dataframe tbody tr th:only-of-type {\n",
       "        vertical-align: middle;\n",
       "    }\n",
       "\n",
       "    .dataframe tbody tr th {\n",
       "        vertical-align: top;\n",
       "    }\n",
       "\n",
       "    .dataframe thead th {\n",
       "        text-align: right;\n",
       "    }\n",
       "</style>\n",
       "<table border=\"1\" class=\"dataframe\">\n",
       "  <thead>\n",
       "    <tr style=\"text-align: right;\">\n",
       "      <th>embarked</th>\n",
       "      <th>B</th>\n",
       "      <th>C</th>\n",
       "      <th>Q</th>\n",
       "      <th>S</th>\n",
       "    </tr>\n",
       "    <tr>\n",
       "      <th>class</th>\n",
       "      <th></th>\n",
       "      <th></th>\n",
       "      <th></th>\n",
       "      <th></th>\n",
       "    </tr>\n",
       "  </thead>\n",
       "  <tbody>\n",
       "    <tr>\n",
       "      <th>1st</th>\n",
       "      <td>3</td>\n",
       "      <td>143</td>\n",
       "      <td>3</td>\n",
       "      <td>175</td>\n",
       "    </tr>\n",
       "    <tr>\n",
       "      <th>2nd</th>\n",
       "      <td>6</td>\n",
       "      <td>26</td>\n",
       "      <td>7</td>\n",
       "      <td>245</td>\n",
       "    </tr>\n",
       "    <tr>\n",
       "      <th>3rd</th>\n",
       "      <td>0</td>\n",
       "      <td>102</td>\n",
       "      <td>113</td>\n",
       "      <td>494</td>\n",
       "    </tr>\n",
       "  </tbody>\n",
       "</table>\n",
       "</div>"
      ],
      "text/plain": [
       "embarked  B    C    Q    S\n",
       "class                     \n",
       "1st       3  143    3  175\n",
       "2nd       6   26    7  245\n",
       "3rd       0  102  113  494"
      ]
     },
     "execution_count": 3,
     "metadata": {},
     "output_type": "execute_result"
    }
   ],
   "source": [
    "# Code here\n",
    "#see all the unique classes\n",
    "print(df_titanic['class'].unique())\n",
    "\n",
    "#filter to include only passengers (1st, 2nd and 3rd classes)\n",
    "passenger_only = df_titanic[(df_titanic['class'] == '1st') | (df_titanic['class'] == '2nd') | (df_titanic['class'] == '3rd')]\n",
    "print(passenger_only['class'].unique())\n",
    "\n",
    "#joint distribution\n",
    "pd.crosstab(passenger_only['class'], passenger_only['embarked'])"
   ]
  },
  {
   "cell_type": "markdown",
   "metadata": {
    "id": "3CRaJLSyYm4d"
   },
   "source": [
    "## 2. Using the joint distribution that calculated above, calculate the following:\n",
    "\n",
    "* the conditional distribution of their class given where they embarked\n",
    "* the conditional distribution of where they embarked given their class\n",
    "\n",
    "Use the conditional distributions that you calculate to answer the following quesitons:\n",
    "\n",
    "* What proportion of 3rd class passengers embarked at Southampton?\n",
    "* What proportion of Southampton passengers were in 3rd class?"
   ]
  },
  {
   "cell_type": "code",
   "execution_count": 4,
   "metadata": {
    "colab": {
     "base_uri": "https://localhost:8080/"
    },
    "id": "TfTGidLIv1k0",
    "outputId": "185abf03-ef1f-45ee-9457-854bfe56067c",
    "tags": []
   },
   "outputs": [
    {
     "name": "stdout",
     "output_type": "stream",
     "text": [
      "embarked         B         C         Q         S\n",
      "class                                           \n",
      "1st       0.009259  0.441358  0.009259  0.540123\n",
      "2nd       0.021127  0.091549  0.024648  0.862676\n",
      "3rd       0.000000  0.143865  0.159379  0.696756\n",
      "embarked         B         C         Q         S\n",
      "class                                           \n",
      "1st       0.333333  0.527675  0.024390  0.191466\n",
      "2nd       0.666667  0.095941  0.056911  0.268053\n",
      "3rd       0.000000  0.376384  0.918699  0.540481\n"
     ]
    }
   ],
   "source": [
    "# Code here\n",
    "# the conditional distribution of where they embarked given their class\n",
    "cond_where_given_class = pd.crosstab(passenger_only['class'], passenger_only['embarked'], normalize='index')\n",
    "# the conditional distribution of their class given where they embarked\n",
    "cond_class_given_where = pd.crosstab(passenger_only['class'], passenger_only['embarked'], normalize='columns')\n",
    "\n",
    "print(cond_where_given_class); print(cond_class_given_where)\n",
    "\n",
    "\n",
    "# Proportion of 3rd class passagenrs that embarked at Southampton is .697\n",
    "# Proportion of Southampton passengers who were in 3rd class is .54"
   ]
  },
  {
   "cell_type": "markdown",
   "metadata": {
    "id": "pGUQeeh1ZRfz"
   },
   "source": [
    "## 3. Make a visualization showing the distribution of a passenger's class, given where they embarked.\n",
    "\n",
    "Discuss the pros and cons of using this visualization versus the distributions you calculated before, to answer the previous questions."
   ]
  },
  {
   "cell_type": "code",
   "execution_count": 5,
   "metadata": {
    "colab": {
     "base_uri": "https://localhost:8080/",
     "height": 740
    },
    "id": "PZ18WKJWA-xZ",
    "outputId": "f8976734-c794-4cba-a629-721a1d482710",
    "tags": []
   },
   "outputs": [
    {
     "name": "stdout",
     "output_type": "stream",
     "text": [
      "   class embarked     value\n",
      "0    1st        B  0.333333\n",
      "1    2nd        B  0.666667\n",
      "2    3rd        B  0.000000\n",
      "3    1st        C  0.527675\n",
      "4    2nd        C  0.095941\n",
      "5    3rd        C  0.376384\n",
      "6    1st        Q  0.024390\n",
      "7    2nd        Q  0.056911\n",
      "8    3rd        Q  0.918699\n",
      "9    1st        S  0.191466\n",
      "10   2nd        S  0.268053\n",
      "11   3rd        S  0.540481\n"
     ]
    },
    {
     "data": {
      "image/png": "[encoded data removed]",
      "text/plain": [
       "<Figure size 640x480 with 1 Axes>"
      ]
     },
     "metadata": {
      "image/png": {
       "height": 480,
       "width": 640
      }
     },
     "output_type": "display_data"
    },
    {
     "data": {
      "text/plain": [
       "<Figure Size: (640 x 480)>"
      ]
     },
     "execution_count": 5,
     "metadata": {},
     "output_type": "execute_result"
    }
   ],
   "source": [
    "from plotnine import ggplot, geom_bar, aes,ylab, xlab\n",
    "cond_class_given_where2 = cond_class_given_where.reset_index().melt(id_vars='class')\n",
    "print(cond_class_given_where2)\n",
    "\n",
    "\n",
    "plot = (ggplot(cond_class_given_where2, aes(x='embarked', y='value', fill='class'))\n",
    "          + geom_bar(stat = 'identity', position= 'stack')\n",
    "          + ylab('Proportion')\n",
    "          + xlab ('Embarked')\n",
    "\n",
    ")\n",
    "\n",
    "\n",
    "plot"
   ]
  }
 ],
 "metadata": {
  "colab": {
   "provenance": []
  },
  "kernelspec": {
   "display_name": "Python 3 (ipykernel)",
   "language": "python",
   "name": "python3"
  },
  "language_info": {
   "codemirror_mode": {
    "name": "ipython",
    "version": 3
   },
   "file_extension": ".py",
   "mimetype": "text/x-python",
   "name": "python",
   "nbconvert_exporter": "python",
   "pygments_lexer": "ipython3",
   "version": "3.11.4"
  }
 },
 "nbformat": 4,
 "nbformat_minor": 4
}
