{
 "cells": [
  {
   "cell_type": "raw",
   "metadata": {},
   "source": [
    "---\n",
    "self-contained: true\n",
    "title: \"FF_Lab_3\"\n",
    "embed-resources: true\n",
    "format:\n",
    "  html:\n",
    "      theme: cyborg\n",
    "---"
   ]
  },
  {
   "cell_type": "markdown",
   "metadata": {
    "id": "4JT4QshQD3ds"
   },
   "source": [
    "# **Lab 3: Singing a Song**"
   ]
  },
  {
   "cell_type": "code",
   "execution_count": 1,
   "metadata": {
    "id": "rJiGD2KdD02f",
    "tags": []
   },
   "outputs": [],
   "source": [
    "import numpy as np\n",
    "import pandas as pd"
   ]
  },
  {
   "cell_type": "code",
   "execution_count": 2,
   "metadata": {
    "id": "DHrk1ukkELwJ",
    "tags": []
   },
   "outputs": [],
   "source": [
    "#import dataset\n",
    "xmas = pd.read_csv(\"https://www.dropbox.com/scl/fi/qxaslqqp5p08i1650rpc4/xmas.csv?rlkey=erdxi7jbh7pqf9fh4lv4cayp5&dl=1\")"
   ]
  },
  {
   "cell_type": "markdown",
   "metadata": {
    "id": "BtaPCBcIXV6V"
   },
   "source": [
    "## **Function 1**\n",
    "  Pluralizing gift item"
   ]
  },
  {
   "cell_type": "code",
   "execution_count": 3,
   "metadata": {
    "colab": {
     "base_uri": "https://localhost:8080/"
    },
    "id": "NJd9vlAPW67g",
    "outputId": "6535e32e-cebb-4832-8d87-2fd16b12da43",
    "tags": []
   },
   "outputs": [
    {
     "name": "stdout",
     "output_type": "stream",
     "text": [
      "geese\n",
      "ladies\n",
      "birds\n"
     ]
    }
   ],
   "source": [
    "def pluralize_gift(gift):\n",
    "\n",
    "  \"\"\"\n",
    "  Returns plural of a noun\n",
    "\n",
    "  Parameters\n",
    "  ----------\n",
    "  gift: str\n",
    "    A noun\n",
    "\n",
    "  Return\n",
    "  ------\n",
    "  str\n",
    "    Plural version\n",
    "  \"\"\"\n",
    "\n",
    "  if \"oo\" in gift:\n",
    "    gift = gift.replace(\"oo\", \"ee\")\n",
    "  elif gift.endswith('y'):\n",
    "    gift = gift.replace('y','ies')\n",
    "  else:\n",
    "    gift = gift +'s'\n",
    "\n",
    "  return gift\n",
    "\n",
    "#test the function\n",
    "print(pluralize_gift(\"goose\"))\n",
    "print(pluralize_gift(\"lady\"))\n",
    "print(pluralize_gift(\"bird\"))\n",
    "\n",
    "#applying it to dataframe\n",
    "\n",
    "##xmas['Gift.Item'] = xmas['Gift.Item'].apply(pluralize_gift)\n",
    "##xmas"
   ]
  },
  {
   "cell_type": "markdown",
   "metadata": {
    "id": "ZlFjySPSc3be"
   },
   "source": [
    "## **Function 2**\n",
    "make a phrase"
   ]
  },
  {
   "cell_type": "code",
   "execution_count": 4,
   "metadata": {
    "id": "uirtFQ3fpFcI",
    "tags": []
   },
   "outputs": [],
   "source": [
    "#dictionary for number in words\n",
    "Num_Words = {\n",
    "    1: \"one\",\n",
    "    2: \"two\",\n",
    "    3: \"three\",\n",
    "    4: \"four\",\n",
    "    5: \"five\",\n",
    "    6: \"six\",\n",
    "    7: \"seven\",\n",
    "    8: \"eight\",\n",
    "    9: \"nine\",\n",
    "    10: \"ten\",\n",
    "    11: \"eleven\",\n",
    "    12: \"twelve\"\n",
    "}\n",
    "\n",
    "#creating new collum matching the dictionary\n",
    "xmas['Num.in.Words'] = xmas['Day'].map(Num_Words)"
   ]
  },
  {
   "cell_type": "code",
   "execution_count": 5,
   "metadata": {
    "id": "J9cGIdvCc6aQ",
    "tags": []
   },
   "outputs": [],
   "source": [
    "# getting rid of nan values for dataset\n",
    "xmas['Verb'] = xmas['Verb'].fillna(\"\")\n",
    "xmas['Adjective'] = xmas['Adjective'].fillna(\"\")\n",
    "xmas['Location'] = xmas['Location'].fillna(\"\")\n",
    "\n",
    "# creating function that makes the phrase and pluralize the gift when needed\n",
    "def make_phrase(num, num_word, item, verb, adjective, location):\n",
    "  \"\"\"\n",
    "  Create a phrase based on the input parameters.\n",
    "\n",
    "    Parameters\n",
    "    ----------\n",
    "    num : int\n",
    "        The day in number.\n",
    "    num_word : str\n",
    "        The word form of the day number. eg: First for 1\n",
    "    item : str\n",
    "        The gift item you are specifying\n",
    "    verb : str\n",
    "        The verb describing the action of the item.\n",
    "    adjective : str\n",
    "        An adjective describing the gift item.\n",
    "    location : str\n",
    "        The location of the gift.\n",
    "\n",
    "    Returns\n",
    "    -------\n",
    "    str\n",
    "        The generated phrase combined with proper grammar and spacing.\n",
    "  \"\"\"\n",
    "\n",
    "  if (num > 1):\n",
    "    item = pluralize_gift(item)\n",
    "\n",
    "\n",
    "  vowels = ('a','e','i','o','u','A','E','I','O','U')\n",
    "\n",
    "  if (item.startswith(vowels)) & (num == 1):\n",
    "    num_word = \"an\"\n",
    "  elif num == 1:\n",
    "    num_word = \"a\"\n",
    "  else:\n",
    "    num_word = num_word\n",
    "\n",
    "# adding spaces when needed\n",
    "  if verb == \"\":\n",
    "    verb = verb\n",
    "  else:\n",
    "    verb =\" \" + verb\n",
    "\n",
    "  if adjective == \"\":\n",
    "    adjective = adjective\n",
    "  else:\n",
    "    adjective = adjective + \" \"\n",
    "\n",
    "  if location == \"\":\n",
    "    location = location\n",
    "  else:\n",
    "    location =  \" \" + location\n",
    "\n",
    "  return num_word + \" \" + adjective  + item + verb + location\n",
    "\n",
    "\n",
    "\n",
    "\n"
   ]
  },
  {
   "cell_type": "code",
   "execution_count": 6,
   "metadata": {
    "colab": {
     "base_uri": "https://localhost:8080/"
    },
    "id": "tYohFytd9e9p",
    "outputId": "2439c71f-b4f7-4dd9-db5e-8232e861319e",
    "tags": []
   },
   "outputs": [
    {
     "name": "stdout",
     "output_type": "stream",
     "text": [
      "three french hens\n"
     ]
    }
   ],
   "source": [
    "# testing it with a single day\n",
    "\n",
    "print(make_phrase(3,'three','hen', '', 'french', ''))\n",
    "\n",
    "# applying the function to the xmas dataset\n",
    "xmas['Full.Phrase'] = xmas.apply(lambda x: make_phrase(x['Day'], x['Num.in.Words'], x['Gift.Item'], x['Verb'], x['Adjective'], x['Location']), axis=1)"
   ]
  },
  {
   "cell_type": "markdown",
   "metadata": {
    "id": "TCIYfvXAdy_f"
   },
   "source": [
    "# **Function 3**\n",
    "Sing a day"
   ]
  },
  {
   "cell_type": "code",
   "execution_count": 7,
   "metadata": {
    "id": "q8odtcQXd3LM",
    "tags": []
   },
   "outputs": [],
   "source": [
    "def sing_day(dataset, num, phrase_col):\n",
    "  \"\"\"\n",
    "   combines each rows of collum into a \"song\".\n",
    "\n",
    "    Parameters\n",
    "    ----------\n",
    "    dataset : DataFrame\n",
    "        The dataset containing the phrases and 'Day.in.Words' column.\n",
    "    num : int\n",
    "        The day number for which you want to sing the song from.\n",
    "    phrase_col : str\n",
    "        The name of the column in the dataset containing the phrases.\n",
    "\n",
    "    Returns\n",
    "    -------\n",
    "    str\n",
    "        The complete song verse from the specified day.\n",
    "    \"\"\"\n",
    "  num_word = dataset.loc[num - 1, 'Day.in.Words']\n",
    "  intro = \"On the \" + num_word + \" day of Christmas, my true love sent to me:\"\n",
    "\n",
    "  gifts = \"\"\n",
    "  for i in range(num, 0, -1):\n",
    "    full_phrase = dataset.loc[i - 1, phrase_col]\n",
    "    if i > 1:\n",
    "      gifts = gifts + full_phrase + \", \" + \" \\n\"\n",
    "    else:\n",
    "      if num > 1:\n",
    "        gifts = gifts + \"and \" + full_phrase\n",
    "      else:\n",
    "        gifts = gifts + full_phrase\n",
    "\n",
    "  song = intro + \" \\n\" + gifts + \".\"\n",
    "  return song\n",
    "\n"
   ]
  },
  {
   "cell_type": "code",
   "execution_count": 8,
   "metadata": {
    "colab": {
     "base_uri": "https://localhost:8080/"
    },
    "id": "XQDh00GB92Vw",
    "outputId": "69934c8f-f77a-4819-d775-db489d0ac6a1",
    "tags": []
   },
   "outputs": [
    {
     "name": "stdout",
     "output_type": "stream",
     "text": [
      "On the third day of Christmas, my true love sent to me: \n",
      "three french hens,  \n",
      "two turtle doves,  \n",
      "and a partridge in a pear tree.\n"
     ]
    }
   ],
   "source": [
    "print(sing_day(xmas, 3, \"Full.Phrase\"))"
   ]
  },
  {
   "cell_type": "code",
   "execution_count": 9,
   "metadata": {
    "colab": {
     "base_uri": "https://localhost:8080/"
    },
    "id": "gXCtihsf94iX",
    "outputId": "84adf429-e15e-49c4-f900-d071ad3b9948",
    "tags": []
   },
   "outputs": [
    {
     "name": "stdout",
     "output_type": "stream",
     "text": [
      "On the twelfth day of Christmas, my true love sent to me: \n",
      "twelve drummers drumming,  \n",
      "eleven pipers piping,  \n",
      "ten lords a-leaping,  \n",
      "nine ladies dancing,  \n",
      "eight maids a-milking,  \n",
      "seven swans a-swimming,  \n",
      "six geese a-laying,  \n",
      "five golden rings,  \n",
      "four calling birds,  \n",
      "three french hens,  \n",
      "two turtle doves,  \n",
      "and a partridge in a pear tree.\n"
     ]
    }
   ],
   "source": [
    "day_12 = sing_day(xmas, 12, \"Full.Phrase\")\n",
    "print(day_12)"
   ]
  },
  {
   "cell_type": "markdown",
   "metadata": {},
   "source": [
    "# **Sing the whole Christmas Song**"
   ]
  },
  {
   "cell_type": "code",
   "execution_count": 12,
   "metadata": {
    "colab": {
     "base_uri": "https://localhost:8080/"
    },
    "id": "80p-ubuS-73f",
    "outputId": "91ba6daf-e093-4fd1-9d6b-156fe959f003",
    "tags": []
   },
   "outputs": [
    {
     "name": "stdout",
     "output_type": "stream",
     "text": [
      "On the first day of Christmas, my true love sent to me: \n",
      "a partridge in a pear tree.\n",
      "\n",
      "On the second day of Christmas, my true love sent to me: \n",
      "two turtle doves,  \n",
      "and a partridge in a pear tree.\n",
      "\n",
      "On the third day of Christmas, my true love sent to me: \n",
      "three french hens,  \n",
      "two turtle doves,  \n",
      "and a partridge in a pear tree.\n",
      "\n",
      "On the fourth day of Christmas, my true love sent to me: \n",
      "four calling birds,  \n",
      "three french hens,  \n",
      "two turtle doves,  \n",
      "and a partridge in a pear tree.\n",
      "\n",
      "On the fifth day of Christmas, my true love sent to me: \n",
      "five golden rings,  \n",
      "four calling birds,  \n",
      "three french hens,  \n",
      "two turtle doves,  \n",
      "and a partridge in a pear tree.\n",
      "\n",
      "On the sixth day of Christmas, my true love sent to me: \n",
      "six geese a-laying,  \n",
      "five golden rings,  \n",
      "four calling birds,  \n",
      "three french hens,  \n",
      "two turtle doves,  \n",
      "and a partridge in a pear tree.\n",
      "\n",
      "On the seventh day of Christmas, my true love sent to me: \n",
      "seven swans a-swimming,  \n",
      "six geese a-laying,  \n",
      "five golden rings,  \n",
      "four calling birds,  \n",
      "three french hens,  \n",
      "two turtle doves,  \n",
      "and a partridge in a pear tree.\n",
      "\n",
      "On the eighth day of Christmas, my true love sent to me: \n",
      "eight maids a-milking,  \n",
      "seven swans a-swimming,  \n",
      "six geese a-laying,  \n",
      "five golden rings,  \n",
      "four calling birds,  \n",
      "three french hens,  \n",
      "two turtle doves,  \n",
      "and a partridge in a pear tree.\n",
      "\n",
      "On the ninth day of Christmas, my true love sent to me: \n",
      "nine ladies dancing,  \n",
      "eight maids a-milking,  \n",
      "seven swans a-swimming,  \n",
      "six geese a-laying,  \n",
      "five golden rings,  \n",
      "four calling birds,  \n",
      "three french hens,  \n",
      "two turtle doves,  \n",
      "and a partridge in a pear tree.\n",
      "\n",
      "On the tenth day of Christmas, my true love sent to me: \n",
      "ten lords a-leaping,  \n",
      "nine ladies dancing,  \n",
      "eight maids a-milking,  \n",
      "seven swans a-swimming,  \n",
      "six geese a-laying,  \n",
      "five golden rings,  \n",
      "four calling birds,  \n",
      "three french hens,  \n",
      "two turtle doves,  \n",
      "and a partridge in a pear tree.\n",
      "\n",
      "On the eleventh day of Christmas, my true love sent to me: \n",
      "eleven pipers piping,  \n",
      "ten lords a-leaping,  \n",
      "nine ladies dancing,  \n",
      "eight maids a-milking,  \n",
      "seven swans a-swimming,  \n",
      "six geese a-laying,  \n",
      "five golden rings,  \n",
      "four calling birds,  \n",
      "three french hens,  \n",
      "two turtle doves,  \n",
      "and a partridge in a pear tree.\n",
      "\n",
      "On the twelfth day of Christmas, my true love sent to me: \n",
      "twelve drummers drumming,  \n",
      "eleven pipers piping,  \n",
      "ten lords a-leaping,  \n",
      "nine ladies dancing,  \n",
      "eight maids a-milking,  \n",
      "seven swans a-swimming,  \n",
      "six geese a-laying,  \n",
      "five golden rings,  \n",
      "four calling birds,  \n",
      "three french hens,  \n",
      "two turtle doves,  \n",
      "and a partridge in a pear tree.\n"
     ]
    }
   ],
   "source": [
    "#Singing the whole song\n",
    "nums = [1,2,3,4,5,6,7,8,9,10,11,12]\n",
    "\n",
    "song = map(lambda x:sing_day(xmas, x, \"Full.Phrase\"), nums)\n",
    "\n",
    "print(\"\\n\\n\".join(list(song)))"
   ]
  },
  {
   "cell_type": "markdown",
   "metadata": {},
   "source": [
    "# **Sing the Surprise Song**"
   ]
  },
  {
   "cell_type": "code",
   "execution_count": 13,
   "metadata": {
    "colab": {
     "base_uri": "https://localhost:8080/"
    },
    "id": "iTtxTy6hbSBJ",
    "outputId": "3bf84b2a-8a1c-4904-9882-778d2775740c",
    "tags": []
   },
   "outputs": [
    {
     "name": "stdout",
     "output_type": "stream",
     "text": [
      "On the first day of Christmas, my true love sent to me: \n",
      "an email from Cal Poly.\n",
      "\n",
      "On the second day of Christmas, my true love sent to me: \n",
      "two meal points,  \n",
      "and an email from Cal Poly.\n",
      "\n",
      "On the third day of Christmas, my true love sent to me: \n",
      "three lost pens,  \n",
      "two meal points,  \n",
      "and an email from Cal Poly.\n",
      "\n",
      "On the fourth day of Christmas, my true love sent to me: \n",
      "four course reviews,  \n",
      "three lost pens,  \n",
      "two meal points,  \n",
      "and an email from Cal Poly.\n",
      "\n",
      "On the fifth day of Christmas, my true love sent to me: \n",
      "five practice exams,  \n",
      "four course reviews,  \n",
      "three lost pens,  \n",
      "two meal points,  \n",
      "and an email from Cal Poly.\n",
      "\n",
      "On the sixth day of Christmas, my true love sent to me: \n",
      "six graders grading,  \n",
      "five practice exams,  \n",
      "four course reviews,  \n",
      "three lost pens,  \n",
      "two meal points,  \n",
      "and an email from Cal Poly.\n",
      "\n",
      "On the seventh day of Christmas, my true love sent to me: \n",
      "seven seniors stressing,  \n",
      "six graders grading,  \n",
      "five practice exams,  \n",
      "four course reviews,  \n",
      "three lost pens,  \n",
      "two meal points,  \n",
      "and an email from Cal Poly.\n",
      "\n",
      "On the eighth day of Christmas, my true love sent to me: \n",
      "eight moms a-calling,  \n",
      "seven seniors stressing,  \n",
      "six graders grading,  \n",
      "five practice exams,  \n",
      "four course reviews,  \n",
      "three lost pens,  \n",
      "two meal points,  \n",
      "and an email from Cal Poly.\n",
      "\n",
      "On the ninth day of Christmas, my true love sent to me: \n",
      "nine parties bumping,  \n",
      "eight moms a-calling,  \n",
      "seven seniors stressing,  \n",
      "six graders grading,  \n",
      "five practice exams,  \n",
      "four course reviews,  \n",
      "three lost pens,  \n",
      "two meal points,  \n",
      "and an email from Cal Poly.\n",
      "\n",
      "On the tenth day of Christmas, my true love sent to me: \n",
      "ten loads of laundry,  \n",
      "nine parties bumping,  \n",
      "eight moms a-calling,  \n",
      "seven seniors stressing,  \n",
      "six graders grading,  \n",
      "five practice exams,  \n",
      "four course reviews,  \n",
      "three lost pens,  \n",
      "two meal points,  \n",
      "and an email from Cal Poly.\n",
      "\n",
      "On the eleventh day of Christmas, my true love sent to me: \n",
      "eleven friends goodbye-ing,  \n",
      "ten loads of laundry,  \n",
      "nine parties bumping,  \n",
      "eight moms a-calling,  \n",
      "seven seniors stressing,  \n",
      "six graders grading,  \n",
      "five practice exams,  \n",
      "four course reviews,  \n",
      "three lost pens,  \n",
      "two meal points,  \n",
      "and an email from Cal Poly.\n",
      "\n",
      "On the twelfth day of Christmas, my true love sent to me: \n",
      "twelve hours sleeping,  \n",
      "eleven friends goodbye-ing,  \n",
      "ten loads of laundry,  \n",
      "nine parties bumping,  \n",
      "eight moms a-calling,  \n",
      "seven seniors stressing,  \n",
      "six graders grading,  \n",
      "five practice exams,  \n",
      "four course reviews,  \n",
      "three lost pens,  \n",
      "two meal points,  \n",
      "and an email from Cal Poly.\n"
     ]
    }
   ],
   "source": [
    "# second dataset\n",
    "xmas2 = pd.read_csv(\"https://www.dropbox.com/scl/fi/p9x9k8xwuzs9rhp582vfy/xmas_2.csv?rlkey=kvc3j3lmyn4opcidsrhcmrof1&dl=1\")\n",
    "\n",
    "xmas2['Num.in.Words'] = xmas2['Day'].map(Num_Words)\n",
    "\n",
    "xmas2['Verb'] = xmas2['Verb'].fillna(\"\")\n",
    "xmas2['Adjective'] = xmas2['Adjective'].fillna(\"\")\n",
    "xmas2['Location'] = xmas2['Location'].fillna(\"\")\n",
    "\n",
    "xmas2['Full.Phrase'] = xmas2.apply(lambda x: make_phrase(x['Day'], x['Num.in.Words'], x['Gift.Item'], x['Verb'], x['Adjective'], x['Location']), axis=1)\n",
    "\n",
    "#testing it\n",
    "day_12 = sing_day(xmas2, 12, \"Full.Phrase\")\n",
    "\n",
    "#singing the whole song\n",
    "nums = [1,2,3,4,5,6,7,8,9,10,11,12]\n",
    "\n",
    "song2 = map(lambda x:sing_day(xmas2, x, \"Full.Phrase\"), nums)\n",
    "\n",
    "print(\"\\n\\n\".join(list(song2)))"
   ]
  }
 ],
 "metadata": {
  "colab": {
   "provenance": []
  },
  "kernelspec": {
   "display_name": "Python 3 (ipykernel)",
   "language": "python",
   "name": "python3"
  },
  "language_info": {
   "codemirror_mode": {
    "name": "ipython",
    "version": 3
   },
   "file_extension": ".py",
   "mimetype": "text/x-python",
   "name": "python",
   "nbconvert_exporter": "python",
   "pygments_lexer": "ipython3",
   "version": "3.11.4"
  }
 },
 "nbformat": 4,
 "nbformat_minor": 4
}
